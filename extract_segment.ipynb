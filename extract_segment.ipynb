{
 "cells": [
  {
   "cell_type": "code",
   "execution_count": 2,
   "metadata": {},
   "outputs": [],
   "source": [
    "import scipy.io\n",
    "import cv2\n",
    "import matlab.engine\n",
    "import numpy as np\n",
    "import os\n",
    "import pandas as pd\n",
    "from PIL import Image\n",
    "from skimage import morphology\n",
    "from skimage import io\n",
    "\n",
    "from config import considered_obj"
   ]
  },
  {
   "cell_type": "code",
   "execution_count": 3,
   "metadata": {},
   "outputs": [],
   "source": [
    "path = os.path.join('ADE20K_2016_07_26', 'images', 'training', 'b', 'bedroom')\n",
    "\n",
    "img_path = {} # {'img_name': 'path'}\n",
    "# r=root, d=directories, f = files\n",
    "for r, d, f in os.walk(path):\n",
    "    for file in f:\n",
    "        if '.jpg' in file:\n",
    "            img_path[file.split('.jpg')[0]] = os.path.join(r, file)"
   ]
  },
  {
   "cell_type": "code",
   "execution_count": 4,
   "metadata": {},
   "outputs": [],
   "source": [
    "eng = matlab.engine.start_matlab()"
   ]
  },
  {
   "cell_type": "markdown",
   "metadata": {},
   "source": [
    "# Load segments"
   ]
  },
  {
   "cell_type": "code",
   "execution_count": 4,
   "metadata": {},
   "outputs": [],
   "source": [
    "img_path = {'ADE_train_00003679': 'ADE20K_2016_07_26/images/training/b/bedroom/ADE_train_00003679.jpg'}"
   ]
  },
  {
   "cell_type": "code",
   "execution_count": 6,
   "metadata": {},
   "outputs": [],
   "source": [
    "for img_name in img_path:\n",
    "\n",
    "    Om, Oi, Pm, Pi, objects, parts = eng.loadAde20K(img_path[img_name], nargout=6)\n",
    "\n",
    "    np.save('loaded_segmentation/' + img_name +'_om.npy', np.array(Om))\n",
    "    np.save('loaded_segmentation/' + img_name + '_oi.npy', np.array(Oi))\n",
    "    np.save('loaded_segmentation/'+ img_name + '_pm.npy', np.array(Pm))\n",
    "    np.save('loaded_segmentation/' + img_name + '_pi.npy', np.array(Pi))\n",
    "\n",
    "    df_objects = pd.DataFrame.from_dict(objects)\n",
    "    df_parts = pd.DataFrame.from_dict(parts)\n",
    "\n",
    "    df_objects.to_csv('loaded_segmentation/' + img_name + '_objects.csv')\n",
    "    df_parts.to_csv('loaded_segmentation/' + img_name + '_parts.csv')"
   ]
  },
  {
   "cell_type": "markdown",
   "metadata": {},
   "source": [
    "# Extract segments"
   ]
  },
  {
   "cell_type": "code",
   "execution_count": 12,
   "metadata": {},
   "outputs": [
    {
     "ename": "ImportError",
     "evalue": "No module named 'scipy.ndimage.morphology.binary_dilation'; 'scipy.ndimage.morphology' is not a package",
     "output_type": "error",
     "traceback": [
      "\u001b[0;31m---------------------------------------------------------------------------\u001b[0m",
      "\u001b[0;31mImportError\u001b[0m                               Traceback (most recent call last)",
      "\u001b[0;32m<ipython-input-12-847d0382911f>\u001b[0m in \u001b[0;36m<module>\u001b[0;34m\u001b[0m\n\u001b[0;32m----> 1\u001b[0;31m \u001b[0;32mimport\u001b[0m \u001b[0mscipy\u001b[0m\u001b[0;34m.\u001b[0m\u001b[0mndimage\u001b[0m\u001b[0;34m.\u001b[0m\u001b[0mmorphology\u001b[0m\u001b[0;34m.\u001b[0m\u001b[0mbinary_dilation\u001b[0m \u001b[0;32mas\u001b[0m \u001b[0mdilate\u001b[0m\u001b[0;34m\u001b[0m\u001b[0m\n\u001b[0m",
      "\u001b[0;31mImportError\u001b[0m: No module named 'scipy.ndimage.morphology.binary_dilation'; 'scipy.ndimage.morphology' is not a package"
     ]
    }
   ],
   "source": [
    "import scipy.ndimage.morphology.binary_dilation as dilate"
   ]
  },
  {
   "cell_type": "code",
   "execution_count": 28,
   "metadata": {},
   "outputs": [],
   "source": [
    "import skimage"
   ]
  },
  {
   "cell_type": "code",
   "execution_count": 39,
   "metadata": {},
   "outputs": [
    {
     "name": "stderr",
     "output_type": "stream",
     "text": [
      "Lossy conversion from float32 to uint8. Range [0, 1]. Convert image to uint8 prior to saving to suppress this warning.\n",
      "Lossy conversion from float32 to uint8. Range [0, 1]. Convert image to uint8 prior to saving to suppress this warning.\n",
      "Lossy conversion from float32 to uint8. Range [0, 1]. Convert image to uint8 prior to saving to suppress this warning.\n",
      "Lossy conversion from float32 to uint8. Range [0, 1]. Convert image to uint8 prior to saving to suppress this warning.\n",
      "Lossy conversion from float32 to uint8. Range [0, 1]. Convert image to uint8 prior to saving to suppress this warning.\n",
      "Lossy conversion from float32 to uint8. Range [0, 1]. Convert image to uint8 prior to saving to suppress this warning.\n",
      "Lossy conversion from float32 to uint8. Range [0, 1]. Convert image to uint8 prior to saving to suppress this warning.\n",
      "Lossy conversion from float32 to uint8. Range [0, 1]. Convert image to uint8 prior to saving to suppress this warning.\n"
     ]
    }
   ],
   "source": [
    "for img_name in img_path:\n",
    "\n",
    "    original_img = Image.open(img_path[img_name])\n",
    "    original_img = np.array(original_img)\n",
    "\n",
    "    segment_class = np.load('loaded_segmentation/' + img_name + '_oi.npy')\n",
    "    segment_class_name = pd.read_csv('loaded_segmentation/' + img_name + '_objects.csv')\n",
    "\n",
    "    segmented_imgs = list()\n",
    "\n",
    "    for i in np.unique(segment_class):\n",
    "        if (segment_class_name['class'].iloc[int(i) - 1] in considered_obj) and (int(i) != 0):\n",
    "            prediction_mask = (segment_class == i)\n",
    "            prediction_box = (segment_class == i)\n",
    "            prediction_box = prediction_box.astype(np.uint8)\n",
    "            prediction_box = prediction_box*255\n",
    "\n",
    "            cropped_object = original_img * np.dstack((prediction_mask,) * 3)\n",
    "            square = morphology.disk(5)\n",
    "\n",
    "            temp = morphology.dilation(prediction_mask, square)\n",
    "            temp = morphology.binary_dilation(temp, square)\n",
    "            temp = morphology.binary_dilation(temp, square)\n",
    "            temp = morphology.binary_dilation(temp, square)\n",
    "            \n",
    "            path_to_save = os.path.join('extracted_segments', img_name + str(i) + '.png')\n",
    "            segmented_imgs.append(path_to_save)\n",
    "            io.imsave(path_to_save, skimage.img_as_float32(temp))\n",
    "            \n",
    "            negative_mask = (temp != True)\n",
    "            eroding_countour = negative_mask * prediction_mask\n",
    "            eroding_countour_img = np.dstack((eroding_countour, ) * 3)\n",
    "            cropped_object[eroding_countour_img] = 0\n",
    "            png_transparancy_mask = np.uint8(prediction_mask * 255)\n",
    "            image_shape = cropped_object.shape\n",
    "            png_array = np.zeros(shape=[image_shape[0], image_shape[1], 4], dtype=np.uint8)\n",
    "            png_array[:, :, :3] = cropped_object\n",
    "            png_array[:, :, 3] = png_transparancy_mask\n",
    "\n",
    "#             path_to_save = os.path.join('extracted_segments', img_name + str(i) + '.png')\n",
    "#             segmented_imgs.append(path_to_save)\n",
    "#             io.imsave(path_to_save, png_array)\n",
    "\n",
    "    network_input = Image.open(img_path[img_name])\n",
    "    network_input = network_input.convert('RGBA')\n",
    "\n",
    "    network_input_data = network_input.load()\n",
    "\n",
    "    for segmented_img in segmented_imgs:\n",
    "        segmented = Image.open(segmented_img)\n",
    "        segmented = segmented.convert('RGB')\n",
    "        segmented_data = segmented.load()\n",
    "\n",
    "        for y in range(segmented.size[1]):\n",
    "            for x in range(segmented.size[0]):\n",
    "                if segmented_data[x, y] != (0, 0, 0):\n",
    "                    network_input_data[x, y] = (255, 255, 255, 255)\n",
    "                    segmented_data[x, y] = (0, 0, 0)\n",
    "                else:\n",
    "                    segmented_data[x, y] = (255, 255, 255)\n",
    "        segmented.save('masks/' + segmented_img.split('/')[1].split('.png')[0] + '.png')\n",
    "\n",
    "    network_input.save('network_input/' + img_name + '.png')"
   ]
  },
  {
   "cell_type": "code",
   "execution_count": null,
   "metadata": {},
   "outputs": [],
   "source": []
  }
 ],
 "metadata": {
  "kernelspec": {
   "display_name": "Python 3",
   "language": "python",
   "name": "python3"
  },
  "language_info": {
   "codemirror_mode": {
    "name": "ipython",
    "version": 3
   },
   "file_extension": ".py",
   "mimetype": "text/x-python",
   "name": "python",
   "nbconvert_exporter": "python",
   "pygments_lexer": "ipython3",
   "version": "3.5.0"
  }
 },
 "nbformat": 4,
 "nbformat_minor": 2
}
