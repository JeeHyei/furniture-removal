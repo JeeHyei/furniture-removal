{
 "cells": [
  {
   "cell_type": "code",
   "execution_count": 1,
   "metadata": {},
   "outputs": [
    {
     "name": "stderr",
     "output_type": "stream",
     "text": [
      "Using TensorFlow backend.\n",
      "WARNING: Logging before flag parsing goes to stderr.\n",
      "W0725 05:47:42.034879 140568321705792 deprecation_wrapper.py:119] From /home/ist-sky/Desktop/Sky/furniture-removal/PConv/libs/pconv_layer.py:12: The name tf.Session is deprecated. Please use tf.compat.v1.Session instead.\n",
      "\n"
     ]
    }
   ],
   "source": [
    "import os\n",
    "from copy import deepcopy\n",
    "import numpy as np\n",
    "import matplotlib.pyplot as plt\n",
    "from PIL import Image\n",
    "\n",
    "# Change to root path\n",
    "if os.path.basename(os.getcwd()) != 'furniture-removal':\n",
    "    os.chdir('..')\n",
    "\n",
    "from PConv.libs.pconv_model import PConvUnet\n",
    "from PConv.libs.util import MaskGenerator, ImageChunker\n",
    "\n",
    "%load_ext autoreload\n",
    "%autoreload 2\n",
    "\n",
    "# SETTINGS\n",
    "# SAMPLE_IMAGE = 'data/my_bike.jpg'\n",
    "# BATCH_SIZE = 4"
   ]
  },
  {
   "cell_type": "markdown",
   "metadata": {},
   "source": [
    "#  Model  Loading"
   ]
  },
  {
   "cell_type": "code",
   "execution_count": 2,
   "metadata": {},
   "outputs": [
    {
     "name": "stderr",
     "output_type": "stream",
     "text": [
      "W0725 05:49:06.733648 140568321705792 deprecation_wrapper.py:119] From /home/ist-sky/Desktop/Sky/furniture-removal/env/lib/python3.6/site-packages/keras/backend/tensorflow_backend.py:74: The name tf.get_default_graph is deprecated. Please use tf.compat.v1.get_default_graph instead.\n",
      "\n",
      "W0725 05:49:06.734293 140568321705792 deprecation_wrapper.py:119] From /home/ist-sky/Desktop/Sky/furniture-removal/env/lib/python3.6/site-packages/keras/backend/tensorflow_backend.py:517: The name tf.placeholder is deprecated. Please use tf.compat.v1.placeholder instead.\n",
      "\n",
      "W0725 05:49:06.740018 140568321705792 deprecation_wrapper.py:119] From /home/ist-sky/Desktop/Sky/furniture-removal/env/lib/python3.6/site-packages/keras/optimizers.py:790: The name tf.train.Optimizer is deprecated. Please use tf.compat.v1.train.Optimizer instead.\n",
      "\n",
      "W0725 05:49:06.776319 140568321705792 deprecation_wrapper.py:119] From /home/ist-sky/Desktop/Sky/furniture-removal/env/lib/python3.6/site-packages/keras/backend/tensorflow_backend.py:4138: The name tf.random_uniform is deprecated. Please use tf.random.uniform instead.\n",
      "\n",
      "W0725 05:49:06.824834 140568321705792 deprecation_wrapper.py:119] From /home/ist-sky/Desktop/Sky/furniture-removal/env/lib/python3.6/site-packages/keras/backend/tensorflow_backend.py:174: The name tf.get_default_session is deprecated. Please use tf.compat.v1.get_default_session instead.\n",
      "\n",
      "W0725 05:49:07.181651 140568321705792 deprecation_wrapper.py:119] From /home/ist-sky/Desktop/Sky/furniture-removal/env/lib/python3.6/site-packages/keras/backend/tensorflow_backend.py:1834: The name tf.nn.fused_batch_norm is deprecated. Please use tf.compat.v1.nn.fused_batch_norm instead.\n",
      "\n",
      "W0725 05:49:07.539742 140568321705792 deprecation_wrapper.py:119] From /home/ist-sky/Desktop/Sky/furniture-removal/env/lib/python3.6/site-packages/keras/backend/tensorflow_backend.py:2018: The name tf.image.resize_nearest_neighbor is deprecated. Please use tf.compat.v1.image.resize_nearest_neighbor instead.\n",
      "\n"
     ]
    }
   ],
   "source": [
    "model = PConvUnet(vgg_weights=None, inference_only=True)\n",
    "model.load('./PConv/pretrained_models/pconv_imagenet.26-1.07.h5', train_bn=False)"
   ]
  },
  {
   "cell_type": "markdown",
   "metadata": {},
   "source": [
    "# Useful Function Declaration"
   ]
  },
  {
   "cell_type": "code",
   "execution_count": 4,
   "metadata": {},
   "outputs": [],
   "source": [
    "# Used for chunking up images & stiching them back together\n",
    "chunker = ImageChunker(512, 512, 30)\n",
    "\n",
    "def plot_images(images, s=5):\n",
    "    _, axes = plt.subplots(1, len(images), figsize=(s*len(images), s))\n",
    "    if len(images) == 1:\n",
    "        axes = [axes]\n",
    "    for img, ax in zip(images, axes):\n",
    "        ax.imshow(img)\n",
    "    plt.show()"
   ]
  },
  {
   "cell_type": "markdown",
   "metadata": {},
   "source": [
    "#  Image  Path Declaration"
   ]
  },
  {
   "cell_type": "code",
   "execution_count": 26,
   "metadata": {},
   "outputs": [],
   "source": [
    "path = os.path.join('masks')\n",
    "\n",
    "img_path = {} # {'img_name': 'path'}\n",
    "# r=root, d=directories, f = files\n",
    "for r, d, f in os.walk(path):\n",
    "    for file in f:\n",
    "        img_name = file.split('.')[0][:18]\n",
    "        img_path[img_name] = os.path.join('ADE20K_2016_07_26', 'images', 'training', 'b', 'bedroom', img_name + '.jpg')"
   ]
  },
  {
   "cell_type": "markdown",
   "metadata": {},
   "source": [
    "# Mask Path Declaration"
   ]
  },
  {
   "cell_type": "code",
   "execution_count": 18,
   "metadata": {},
   "outputs": [],
   "source": [
    "path = os.path.join('masks')\n",
    "\n",
    "msk_path = {} # {'img_name': 'path'}\n",
    "# r=root, d=directories, f = files\n",
    "for r, d, f in os.walk(path):\n",
    "    for file in f:\n",
    "        img_name = file.split('.')[0][:18]\n",
    "        if img_name in msk_path:\n",
    "            msk_path[img_name].append(os.path.join(r, file))\n",
    "        else:\n",
    "            msk_path[img_name]  =  [os.path.join(r, file)]"
   ]
  },
  {
   "cell_type": "code",
   "execution_count": 33,
   "metadata": {},
   "outputs": [],
   "source": [
    "import copy\n",
    "\n",
    "for img_name in  img_path:\n",
    "    \n",
    "    # Load image\n",
    "    img = np.array(Image.open(img_path[img_name]).resize((512, 512))) / 255\n",
    "    \n",
    "    for msk in msk_path[img_name]:\n",
    "        \n",
    "        # Load mask\n",
    "        mask = np.array(Image.open(msk).resize((512, 512))) / 255\n",
    "        # Image + mask\n",
    "        masked_img = copy.deepcopy(img)\n",
    "        masked_img[mask==0] = 1\n",
    "        \n",
    "        # Process sample\n",
    "        chunked_images = chunker.dimension_preprocess(deepcopy(img))\n",
    "        chunked_masks = chunker.dimension_preprocess(deepcopy(mask))\n",
    "        pred_imgs = model.predict([chunked_images, chunked_masks])\n",
    "        reconstructed_image = chunker.dimension_postprocess(pred_imgs, img)\n",
    "\n",
    "        # Plot results\n",
    "        plot_images(chunked_images)\n",
    "        plot_images(pred_imgs)"
   ]
  },
  {
   "cell_type": "code",
   "execution_count": null,
   "metadata": {},
   "outputs": [],
   "source": []
  }
 ],
 "metadata": {
  "kernelspec": {
   "display_name": "Python 3",
   "language": "python",
   "name": "python3"
  },
  "language_info": {
   "codemirror_mode": {
    "name": "ipython",
    "version": 3
   },
   "file_extension": ".py",
   "mimetype": "text/x-python",
   "name": "python",
   "nbconvert_exporter": "python",
   "pygments_lexer": "ipython3",
   "version": "3.6.8"
  }
 },
 "nbformat": 4,
 "nbformat_minor": 2
}
